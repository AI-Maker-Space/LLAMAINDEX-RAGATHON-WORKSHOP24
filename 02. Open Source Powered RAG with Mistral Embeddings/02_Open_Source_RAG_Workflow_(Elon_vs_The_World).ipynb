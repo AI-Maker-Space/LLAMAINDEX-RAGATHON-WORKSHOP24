{
  "nbformat": 4,
  "nbformat_minor": 0,
  "metadata": {
    "colab": {
      "provenance": []
    },
    "kernelspec": {
      "name": "python3",
      "display_name": "Python 3"
    },
    "language_info": {
      "name": "python"
    },
    "widgets": {
      "application/vnd.jupyter.widget-state+json": {
        "5df7a1539bc4421bb77de3e7f0f09fa1": {
          "model_module": "@jupyter-widgets/controls",
          "model_name": "HBoxModel",
          "model_module_version": "1.5.0",
          "state": {
            "_dom_classes": [],
            "_model_module": "@jupyter-widgets/controls",
            "_model_module_version": "1.5.0",
            "_model_name": "HBoxModel",
            "_view_count": null,
            "_view_module": "@jupyter-widgets/controls",
            "_view_module_version": "1.5.0",
            "_view_name": "HBoxView",
            "box_style": "",
            "children": [
              "IPY_MODEL_bd097058c67143cc9fb50b6e249c41d8",
              "IPY_MODEL_7998c07343264872a7a56f6b5ef506a5",
              "IPY_MODEL_6c25f27e1d8941e5bd2c7e9dc1362530"
            ],
            "layout": "IPY_MODEL_c6690f4f904e4b469caca29d16697ffc"
          }
        },
        "bd097058c67143cc9fb50b6e249c41d8": {
          "model_module": "@jupyter-widgets/controls",
          "model_name": "HTMLModel",
          "model_module_version": "1.5.0",
          "state": {
            "_dom_classes": [],
            "_model_module": "@jupyter-widgets/controls",
            "_model_module_version": "1.5.0",
            "_model_name": "HTMLModel",
            "_view_count": null,
            "_view_module": "@jupyter-widgets/controls",
            "_view_module_version": "1.5.0",
            "_view_name": "HTMLView",
            "description": "",
            "description_tooltip": null,
            "layout": "IPY_MODEL_1c6c9020298848b99c0b20fb218ed866",
            "placeholder": "​",
            "style": "IPY_MODEL_88f0ec80fcc14da8a68d9545b205a3fa",
            "value": "Upserted vectors: 100%"
          }
        },
        "7998c07343264872a7a56f6b5ef506a5": {
          "model_module": "@jupyter-widgets/controls",
          "model_name": "FloatProgressModel",
          "model_module_version": "1.5.0",
          "state": {
            "_dom_classes": [],
            "_model_module": "@jupyter-widgets/controls",
            "_model_module_version": "1.5.0",
            "_model_name": "FloatProgressModel",
            "_view_count": null,
            "_view_module": "@jupyter-widgets/controls",
            "_view_module_version": "1.5.0",
            "_view_name": "ProgressView",
            "bar_style": "success",
            "description": "",
            "description_tooltip": null,
            "layout": "IPY_MODEL_d1b08b690275454db5837bd0d64e10a2",
            "max": 87,
            "min": 0,
            "orientation": "horizontal",
            "style": "IPY_MODEL_e2ff360460604f97b4ba22da1a34009d",
            "value": 87
          }
        },
        "6c25f27e1d8941e5bd2c7e9dc1362530": {
          "model_module": "@jupyter-widgets/controls",
          "model_name": "HTMLModel",
          "model_module_version": "1.5.0",
          "state": {
            "_dom_classes": [],
            "_model_module": "@jupyter-widgets/controls",
            "_model_module_version": "1.5.0",
            "_model_name": "HTMLModel",
            "_view_count": null,
            "_view_module": "@jupyter-widgets/controls",
            "_view_module_version": "1.5.0",
            "_view_name": "HTMLView",
            "description": "",
            "description_tooltip": null,
            "layout": "IPY_MODEL_4161c8b64e8049099e3fab29a04215b3",
            "placeholder": "​",
            "style": "IPY_MODEL_aba590ea0bae447484833644557768e6",
            "value": " 87/87 [05:53&lt;00:00, 70.32it/s]"
          }
        },
        "c6690f4f904e4b469caca29d16697ffc": {
          "model_module": "@jupyter-widgets/base",
          "model_name": "LayoutModel",
          "model_module_version": "1.2.0",
          "state": {
            "_model_module": "@jupyter-widgets/base",
            "_model_module_version": "1.2.0",
            "_model_name": "LayoutModel",
            "_view_count": null,
            "_view_module": "@jupyter-widgets/base",
            "_view_module_version": "1.2.0",
            "_view_name": "LayoutView",
            "align_content": null,
            "align_items": null,
            "align_self": null,
            "border": null,
            "bottom": null,
            "display": null,
            "flex": null,
            "flex_flow": null,
            "grid_area": null,
            "grid_auto_columns": null,
            "grid_auto_flow": null,
            "grid_auto_rows": null,
            "grid_column": null,
            "grid_gap": null,
            "grid_row": null,
            "grid_template_areas": null,
            "grid_template_columns": null,
            "grid_template_rows": null,
            "height": null,
            "justify_content": null,
            "justify_items": null,
            "left": null,
            "margin": null,
            "max_height": null,
            "max_width": null,
            "min_height": null,
            "min_width": null,
            "object_fit": null,
            "object_position": null,
            "order": null,
            "overflow": null,
            "overflow_x": null,
            "overflow_y": null,
            "padding": null,
            "right": null,
            "top": null,
            "visibility": null,
            "width": null
          }
        },
        "1c6c9020298848b99c0b20fb218ed866": {
          "model_module": "@jupyter-widgets/base",
          "model_name": "LayoutModel",
          "model_module_version": "1.2.0",
          "state": {
            "_model_module": "@jupyter-widgets/base",
            "_model_module_version": "1.2.0",
            "_model_name": "LayoutModel",
            "_view_count": null,
            "_view_module": "@jupyter-widgets/base",
            "_view_module_version": "1.2.0",
            "_view_name": "LayoutView",
            "align_content": null,
            "align_items": null,
            "align_self": null,
            "border": null,
            "bottom": null,
            "display": null,
            "flex": null,
            "flex_flow": null,
            "grid_area": null,
            "grid_auto_columns": null,
            "grid_auto_flow": null,
            "grid_auto_rows": null,
            "grid_column": null,
            "grid_gap": null,
            "grid_row": null,
            "grid_template_areas": null,
            "grid_template_columns": null,
            "grid_template_rows": null,
            "height": null,
            "justify_content": null,
            "justify_items": null,
            "left": null,
            "margin": null,
            "max_height": null,
            "max_width": null,
            "min_height": null,
            "min_width": null,
            "object_fit": null,
            "object_position": null,
            "order": null,
            "overflow": null,
            "overflow_x": null,
            "overflow_y": null,
            "padding": null,
            "right": null,
            "top": null,
            "visibility": null,
            "width": null
          }
        },
        "88f0ec80fcc14da8a68d9545b205a3fa": {
          "model_module": "@jupyter-widgets/controls",
          "model_name": "DescriptionStyleModel",
          "model_module_version": "1.5.0",
          "state": {
            "_model_module": "@jupyter-widgets/controls",
            "_model_module_version": "1.5.0",
            "_model_name": "DescriptionStyleModel",
            "_view_count": null,
            "_view_module": "@jupyter-widgets/base",
            "_view_module_version": "1.2.0",
            "_view_name": "StyleView",
            "description_width": ""
          }
        },
        "d1b08b690275454db5837bd0d64e10a2": {
          "model_module": "@jupyter-widgets/base",
          "model_name": "LayoutModel",
          "model_module_version": "1.2.0",
          "state": {
            "_model_module": "@jupyter-widgets/base",
            "_model_module_version": "1.2.0",
            "_model_name": "LayoutModel",
            "_view_count": null,
            "_view_module": "@jupyter-widgets/base",
            "_view_module_version": "1.2.0",
            "_view_name": "LayoutView",
            "align_content": null,
            "align_items": null,
            "align_self": null,
            "border": null,
            "bottom": null,
            "display": null,
            "flex": null,
            "flex_flow": null,
            "grid_area": null,
            "grid_auto_columns": null,
            "grid_auto_flow": null,
            "grid_auto_rows": null,
            "grid_column": null,
            "grid_gap": null,
            "grid_row": null,
            "grid_template_areas": null,
            "grid_template_columns": null,
            "grid_template_rows": null,
            "height": null,
            "justify_content": null,
            "justify_items": null,
            "left": null,
            "margin": null,
            "max_height": null,
            "max_width": null,
            "min_height": null,
            "min_width": null,
            "object_fit": null,
            "object_position": null,
            "order": null,
            "overflow": null,
            "overflow_x": null,
            "overflow_y": null,
            "padding": null,
            "right": null,
            "top": null,
            "visibility": null,
            "width": null
          }
        },
        "e2ff360460604f97b4ba22da1a34009d": {
          "model_module": "@jupyter-widgets/controls",
          "model_name": "ProgressStyleModel",
          "model_module_version": "1.5.0",
          "state": {
            "_model_module": "@jupyter-widgets/controls",
            "_model_module_version": "1.5.0",
            "_model_name": "ProgressStyleModel",
            "_view_count": null,
            "_view_module": "@jupyter-widgets/base",
            "_view_module_version": "1.2.0",
            "_view_name": "StyleView",
            "bar_color": null,
            "description_width": ""
          }
        },
        "4161c8b64e8049099e3fab29a04215b3": {
          "model_module": "@jupyter-widgets/base",
          "model_name": "LayoutModel",
          "model_module_version": "1.2.0",
          "state": {
            "_model_module": "@jupyter-widgets/base",
            "_model_module_version": "1.2.0",
            "_model_name": "LayoutModel",
            "_view_count": null,
            "_view_module": "@jupyter-widgets/base",
            "_view_module_version": "1.2.0",
            "_view_name": "LayoutView",
            "align_content": null,
            "align_items": null,
            "align_self": null,
            "border": null,
            "bottom": null,
            "display": null,
            "flex": null,
            "flex_flow": null,
            "grid_area": null,
            "grid_auto_columns": null,
            "grid_auto_flow": null,
            "grid_auto_rows": null,
            "grid_column": null,
            "grid_gap": null,
            "grid_row": null,
            "grid_template_areas": null,
            "grid_template_columns": null,
            "grid_template_rows": null,
            "height": null,
            "justify_content": null,
            "justify_items": null,
            "left": null,
            "margin": null,
            "max_height": null,
            "max_width": null,
            "min_height": null,
            "min_width": null,
            "object_fit": null,
            "object_position": null,
            "order": null,
            "overflow": null,
            "overflow_x": null,
            "overflow_y": null,
            "padding": null,
            "right": null,
            "top": null,
            "visibility": null,
            "width": null
          }
        },
        "aba590ea0bae447484833644557768e6": {
          "model_module": "@jupyter-widgets/controls",
          "model_name": "DescriptionStyleModel",
          "model_module_version": "1.5.0",
          "state": {
            "_model_module": "@jupyter-widgets/controls",
            "_model_module_version": "1.5.0",
            "_model_name": "DescriptionStyleModel",
            "_view_count": null,
            "_view_module": "@jupyter-widgets/base",
            "_view_module_version": "1.2.0",
            "_view_name": "StyleView",
            "description_width": ""
          }
        }
      }
    }
  },
  "cells": [
    {
      "cell_type": "markdown",
      "source": [
        "## Preparation\n",
        "\n",
        "As always, we have some work to do before we can jump straight into the workflows.\n",
        "\n",
        "Let's set-up some boilerplate, add some dependencies, and get ready to rock!"
      ],
      "metadata": {
        "id": "BMGjxLBV25E4"
      }
    },
    {
      "cell_type": "markdown",
      "source": [
        "### Async Boilerplate:\n",
        "\n",
        "Since \"workflows make async a first-class citizen\", and we're running these examples in a Jupyter Notebook (which is in an active async loop!) we'll need to use the `nest_asyncio` library to ensure we're able to take advantage of the async capabilities of the workflows we're making!"
      ],
      "metadata": {
        "id": "cJnMhhnc0zKt"
      }
    },
    {
      "cell_type": "code",
      "execution_count": 1,
      "metadata": {
        "id": "L9sDSuocmarA"
      },
      "outputs": [],
      "source": [
        "import nest_asyncio\n",
        "\n",
        "nest_asyncio.apply()"
      ]
    },
    {
      "cell_type": "markdown",
      "source": [
        "### Installing Dependencies:\n",
        "\n",
        "Next, we're going to install our dependencies!\n",
        "\n",
        "We'll want to get the [Taviliy Research Tool](https://llamahub.ai/l/tools/llama-index-tools-tavily-research?from=) which will allow us to do open research as part of our Corrective RAG Implementation (more details on that later).\n",
        "\n",
        "We'll also want to grab our `llama-index-utils-workflow` package which will let us draw all possible paths through the resultant workflow."
      ],
      "metadata": {
        "id": "AdoaMp0B1aCC"
      }
    },
    {
      "cell_type": "code",
      "source": [
        "%pip install -qU llama-index llama-index-utils-workflow"
      ],
      "metadata": {
        "colab": {
          "base_uri": "https://localhost:8080/"
        },
        "id": "uhBEvUDlqkaP",
        "outputId": "9b2d4123-2f78-499d-9208-725c7db5c37d"
      },
      "execution_count": 2,
      "outputs": [
        {
          "output_type": "stream",
          "name": "stdout",
          "text": [
            "\u001b[2K   \u001b[90m━━━━━━━━━━━━━━━━━━━━━━━━━━━━━━━━━━━━━━━━\u001b[0m \u001b[32m1.6/1.6 MB\u001b[0m \u001b[31m30.7 MB/s\u001b[0m eta \u001b[36m0:00:00\u001b[0m\n",
            "\u001b[2K   \u001b[90m━━━━━━━━━━━━━━━━━━━━━━━━━━━━━━━━━━━━━━━━\u001b[0m \u001b[32m1.2/1.2 MB\u001b[0m \u001b[31m34.6 MB/s\u001b[0m eta \u001b[36m0:00:00\u001b[0m\n",
            "\u001b[2K   \u001b[90m━━━━━━━━━━━━━━━━━━━━━━━━━━━━━━━━━━━━━━━━\u001b[0m \u001b[32m1.5/1.5 MB\u001b[0m \u001b[31m28.9 MB/s\u001b[0m eta \u001b[36m0:00:00\u001b[0m\n",
            "\u001b[2K   \u001b[90m━━━━━━━━━━━━━━━━━━━━━━━━━━━━━━━━━━━━━━━━\u001b[0m \u001b[32m756.0/756.0 kB\u001b[0m \u001b[31m23.0 MB/s\u001b[0m eta \u001b[36m0:00:00\u001b[0m\n",
            "\u001b[2K   \u001b[90m━━━━━━━━━━━━━━━━━━━━━━━━━━━━━━━━━━━━━━━━\u001b[0m \u001b[32m173.8/173.8 kB\u001b[0m \u001b[31m8.2 MB/s\u001b[0m eta \u001b[36m0:00:00\u001b[0m\n",
            "\u001b[2K   \u001b[90m━━━━━━━━━━━━━━━━━━━━━━━━━━━━━━━━━━━━━━━━\u001b[0m \u001b[32m76.4/76.4 kB\u001b[0m \u001b[31m3.9 MB/s\u001b[0m eta \u001b[36m0:00:00\u001b[0m\n",
            "\u001b[2K   \u001b[90m━━━━━━━━━━━━━━━━━━━━━━━━━━━━━━━━━━━━━━━━\u001b[0m \u001b[32m78.0/78.0 kB\u001b[0m \u001b[31m4.5 MB/s\u001b[0m eta \u001b[36m0:00:00\u001b[0m\n",
            "\u001b[2K   \u001b[90m━━━━━━━━━━━━━━━━━━━━━━━━━━━━━━━━━━━━━━━━\u001b[0m \u001b[32m383.7/383.7 kB\u001b[0m \u001b[31m18.4 MB/s\u001b[0m eta \u001b[36m0:00:00\u001b[0m\n",
            "\u001b[2K   \u001b[90m━━━━━━━━━━━━━━━━━━━━━━━━━━━━━━━━━━━━━━━━\u001b[0m \u001b[32m295.8/295.8 kB\u001b[0m \u001b[31m10.1 MB/s\u001b[0m eta \u001b[36m0:00:00\u001b[0m\n",
            "\u001b[2K   \u001b[90m━━━━━━━━━━━━━━━━━━━━━━━━━━━━━━━━━━━━━━━━\u001b[0m \u001b[32m1.2/1.2 MB\u001b[0m \u001b[31m30.6 MB/s\u001b[0m eta \u001b[36m0:00:00\u001b[0m\n",
            "\u001b[2K   \u001b[90m━━━━━━━━━━━━━━━━━━━━━━━━━━━━━━━━━━━━━━━━\u001b[0m \u001b[32m325.2/325.2 kB\u001b[0m \u001b[31m17.8 MB/s\u001b[0m eta \u001b[36m0:00:00\u001b[0m\n",
            "\u001b[2K   \u001b[90m━━━━━━━━━━━━━━━━━━━━━━━━━━━━━━━━━━━━━━━━\u001b[0m \u001b[32m49.3/49.3 kB\u001b[0m \u001b[31m2.7 MB/s\u001b[0m eta \u001b[36m0:00:00\u001b[0m\n",
            "\u001b[2K   \u001b[90m━━━━━━━━━━━━━━━━━━━━━━━━━━━━━━━━━━━━━━━━\u001b[0m \u001b[32m58.3/58.3 kB\u001b[0m \u001b[31m2.3 MB/s\u001b[0m eta \u001b[36m0:00:00\u001b[0m\n",
            "\u001b[?25h"
          ]
        }
      ]
    },
    {
      "cell_type": "code",
      "source": [
        "%pip install -qU pinecone llama-index-vector-stores-pinecone"
      ],
      "metadata": {
        "colab": {
          "base_uri": "https://localhost:8080/"
        },
        "id": "zSpfS6J6wR59",
        "outputId": "6f18b058-dbdb-41b4-d15d-bad724668d79"
      },
      "execution_count": 3,
      "outputs": [
        {
          "output_type": "stream",
          "name": "stdout",
          "text": [
            "\u001b[2K   \u001b[90m━━━━━━━━━━━━━━━━━━━━━━━━━━━━━━━━━━━━━━━━\u001b[0m \u001b[32m419.8/419.8 kB\u001b[0m \u001b[31m5.4 MB/s\u001b[0m eta \u001b[36m0:00:00\u001b[0m\n",
            "\u001b[2K   \u001b[90m━━━━━━━━━━━━━━━━━━━━━━━━━━━━━━━━━━━━━━━━\u001b[0m \u001b[32m244.8/244.8 kB\u001b[0m \u001b[31m7.4 MB/s\u001b[0m eta \u001b[36m0:00:00\u001b[0m\n",
            "\u001b[2K   \u001b[90m━━━━━━━━━━━━━━━━━━━━━━━━━━━━━━━━━━━━━━━━\u001b[0m \u001b[32m85.4/85.4 kB\u001b[0m \u001b[31m2.2 MB/s\u001b[0m eta \u001b[36m0:00:00\u001b[0m\n",
            "\u001b[?25h"
          ]
        }
      ]
    },
    {
      "cell_type": "code",
      "source": [
        "%pip install -qU llama-index-embeddings-mistralai llama-index-llms-text-generation-inference"
      ],
      "metadata": {
        "colab": {
          "base_uri": "https://localhost:8080/"
        },
        "id": "-59x6rrl4AM9",
        "outputId": "e9a0c370-ac16-461a-a5b7-bae4e8b496a9"
      },
      "execution_count": 41,
      "outputs": [
        {
          "output_type": "stream",
          "name": "stdout",
          "text": [
            "\u001b[?25l   \u001b[90m━━━━━━━━━━━━━━━━━━━━━━━━━━━━━━━━━━━━━━━━\u001b[0m \u001b[32m0.0/229.7 kB\u001b[0m \u001b[31m?\u001b[0m eta \u001b[36m-:--:--\u001b[0m\r\u001b[2K   \u001b[90m━━━━━━━━━━━━━━━━━━━━━━━━━━━━━━━━━━━━━━━━\u001b[0m \u001b[32m229.7/229.7 kB\u001b[0m \u001b[31m11.8 MB/s\u001b[0m eta \u001b[36m0:00:00\u001b[0m\n",
            "\u001b[?25h"
          ]
        }
      ]
    },
    {
      "cell_type": "code",
      "source": [
        "%pip install -qU llama-index-core llama-parse llama-index-readers-file python-dotenv"
      ],
      "metadata": {
        "id": "1iaSn7LbKEiu"
      },
      "execution_count": 11,
      "outputs": []
    },
    {
      "cell_type": "code",
      "source": [
        "%pip install -qU llama-index-readers-file"
      ],
      "metadata": {
        "id": "GXtQc6r5lrJk"
      },
      "execution_count": 77,
      "outputs": []
    },
    {
      "cell_type": "code",
      "source": [
        "import os\n",
        "import getpass\n",
        "\n",
        "os.environ[\"PINECONE_API_KEY\"] = getpass.getpass(\"Pinecone API Key:\")"
      ],
      "metadata": {
        "colab": {
          "base_uri": "https://localhost:8080/"
        },
        "id": "XtN9SIIKwdkg",
        "outputId": "150e435b-023e-4f9d-f3c5-c487ec21d0fd"
      },
      "execution_count": 5,
      "outputs": [
        {
          "name": "stdout",
          "output_type": "stream",
          "text": [
            "Pinecone API Key:··········\n"
          ]
        }
      ]
    },
    {
      "cell_type": "code",
      "source": [
        "os.environ[\"LLAMA_CLOUD_API_KEY\"] = getpass.getpass(\"Llama Cloud API Key\")"
      ],
      "metadata": {
        "colab": {
          "base_uri": "https://localhost:8080/"
        },
        "id": "q8EvbTWhKMDk",
        "outputId": "c46a7663-5688-4d63-e3c4-93f03a9c81f2"
      },
      "execution_count": 12,
      "outputs": [
        {
          "name": "stdout",
          "output_type": "stream",
          "text": [
            "Llama Cloud API Key··········\n"
          ]
        }
      ]
    },
    {
      "cell_type": "code",
      "source": [
        "os.environ[\"HF_TOKEN\"] = getpass.getpass(\"Huggingface Token:\")"
      ],
      "metadata": {
        "colab": {
          "base_uri": "https://localhost:8080/"
        },
        "id": "CxJ4gLV9MazX",
        "outputId": "fb94d9ee-796e-4b44-fd0d-d4a766871539"
      },
      "execution_count": 22,
      "outputs": [
        {
          "name": "stdout",
          "output_type": "stream",
          "text": [
            "Huggingface Token:··········\n"
          ]
        }
      ]
    },
    {
      "cell_type": "code",
      "source": [
        "os.environ[\"MISTRAL_API_KEY\"] = getpass.getpass(\"Mistral API Key:\")"
      ],
      "metadata": {
        "colab": {
          "base_uri": "https://localhost:8080/"
        },
        "id": "jlNr-VT6SmMx",
        "outputId": "d24d948e-2e3c-4eee-bab8-31e6ac220b20"
      },
      "execution_count": 42,
      "outputs": [
        {
          "name": "stdout",
          "output_type": "stream",
          "text": [
            "Mistral API Key:··········\n"
          ]
        }
      ]
    },
    {
      "cell_type": "code",
      "source": [
        "!git clone https://github.com/AI-Maker-Space/DataRepository.git"
      ],
      "metadata": {
        "colab": {
          "base_uri": "https://localhost:8080/"
        },
        "id": "_HsatPZ2Ig5Q",
        "outputId": "f1e1707b-0751-482c-f08a-76d5833c859c"
      },
      "execution_count": 10,
      "outputs": [
        {
          "output_type": "stream",
          "name": "stdout",
          "text": [
            "Cloning into 'DataRepository'...\n",
            "remote: Enumerating objects: 110, done.\u001b[K\n",
            "remote: Counting objects: 100% (102/102), done.\u001b[K\n",
            "remote: Compressing objects: 100% (88/88), done.\u001b[K\n",
            "remote: Total 110 (delta 34), reused 35 (delta 9), pack-reused 8 (from 1)\u001b[K\n",
            "Receiving objects: 100% (110/110), 71.41 MiB | 22.89 MiB/s, done.\n",
            "Resolving deltas: 100% (34/34), done.\n"
          ]
        }
      ]
    },
    {
      "cell_type": "code",
      "source": [
        "from llama_parse import LlamaParse\n",
        "from llama_index.core import SimpleDirectoryReader\n",
        "\n",
        "parser = LlamaParse(\n",
        "    result_type=\"markdown\"  # \"markdown\" and \"text\" are available\n",
        ")\n",
        "\n",
        "file_extractor = {\".pdf\": parser}\n",
        "pdf_documents = SimpleDirectoryReader(input_files=['./DataRepository/RAGATHON/musk_v_openai.pdf'], file_extractor=file_extractor).load_data()\n",
        "print(len(pdf_documents))"
      ],
      "metadata": {
        "colab": {
          "base_uri": "https://localhost:8080/"
        },
        "id": "ep93iaa5JlKk",
        "outputId": "c32a05ba-c27f-496b-c905-6ac71884538a"
      },
      "execution_count": 89,
      "outputs": [
        {
          "output_type": "stream",
          "name": "stdout",
          "text": [
            "Started parsing the file under job_id 4bdf8676-bde3-4f8b-b215-34ffe36b1083\n",
            "86\n"
          ]
        }
      ]
    },
    {
      "cell_type": "code",
      "source": [
        "from llama_index.readers.file import PagedCSVReader\n",
        "from llama_index.core.node_parser import SimpleFileNodeParser\n",
        "\n",
        "reader = PagedCSVReader()\n",
        "file_extractor = {\".csv\": reader}\n",
        "csv_documents = SimpleDirectoryReader(\n",
        "    input_files=[\"./DataRepository/RAGATHON/elon_tweets.csv\"], file_extractor=file_extractor\n",
        ").load_data()"
      ],
      "metadata": {
        "colab": {
          "base_uri": "https://localhost:8080/"
        },
        "id": "2xkx4y73mwQ0",
        "outputId": "673e0756-21d2-429a-a30d-9db8eb0f1099"
      },
      "execution_count": 87,
      "outputs": [
        {
          "output_type": "stream",
          "name": "stdout",
          "text": [
            "2668\n"
          ]
        }
      ]
    },
    {
      "cell_type": "code",
      "source": [
        "all_documents = pdf_documents"
      ],
      "metadata": {
        "id": "nxnbSMNLpDj5"
      },
      "execution_count": 94,
      "outputs": []
    },
    {
      "cell_type": "code",
      "source": [
        "from llama_index.embeddings.mistralai import MistralAIEmbedding\n",
        "\n",
        "model_name=\"mistral-embed\"\n",
        "\n",
        "embed_model = MistralAIEmbedding(model_name=model_name)"
      ],
      "metadata": {
        "id": "ZASnfwLJNMJb"
      },
      "execution_count": 43,
      "outputs": []
    },
    {
      "cell_type": "code",
      "source": [
        "embeddings = embed_model.get_text_embedding(\"Welcome to the RAGATHON!\")\n",
        "print(len(embeddings))\n",
        "embedding_dimension = len(embeddings)"
      ],
      "metadata": {
        "colab": {
          "base_uri": "https://localhost:8080/"
        },
        "id": "vpfTbOwNOzl2",
        "outputId": "65e3ce1b-8588-4e0c-ea65-e786e4b82b96"
      },
      "execution_count": 57,
      "outputs": [
        {
          "output_type": "stream",
          "name": "stdout",
          "text": [
            "1024\n"
          ]
        }
      ]
    },
    {
      "cell_type": "code",
      "source": [
        "from llama_index.core import Settings\n",
        "\n",
        "Settings.embed_model = embed_model"
      ],
      "metadata": {
        "id": "5aVW8hLqS4Pv"
      },
      "execution_count": 45,
      "outputs": []
    },
    {
      "cell_type": "code",
      "source": [
        "from pinecone import Pinecone, ServerlessSpec\n",
        "\n",
        "pc = Pinecone(api_key=os.environ[\"PINECONE_API_KEY\"])"
      ],
      "metadata": {
        "id": "qjrVUt_UwZ9m"
      },
      "execution_count": 58,
      "outputs": []
    },
    {
      "cell_type": "code",
      "source": [
        "index_name = \"llamaindex-ragathon-demo-index\"\n",
        "\n",
        "pc.create_index(\n",
        "    name=index_name,\n",
        "    dimension=embedding_dimension,\n",
        "    metric=\"cosine\",\n",
        "    spec=ServerlessSpec(\n",
        "        cloud=\"aws\",\n",
        "        region=\"us-east-1\"\n",
        "    )\n",
        ")"
      ],
      "metadata": {
        "id": "z7KOUdp8wrGM"
      },
      "execution_count": 59,
      "outputs": []
    },
    {
      "cell_type": "code",
      "source": [
        "pinecone_index = pc.Index(index_name)"
      ],
      "metadata": {
        "id": "ekaV8FFwykyn"
      },
      "execution_count": 60,
      "outputs": []
    },
    {
      "cell_type": "code",
      "source": [
        "import os\n",
        "from typing import List, Optional\n",
        "\n",
        "from llama_index.llms.text_generation_inference import (\n",
        "    TextGenerationInference,\n",
        ")\n",
        "\n",
        "URL = \"https://cx7s40y9qdd7zxhr.us-east-1.aws.endpoints.huggingface.cloud\"\n",
        "hf_llm = TextGenerationInference(\n",
        "    model_url=URL, token=os.environ[\"HF_TOKEN\"]\n",
        ")\n",
        "\n",
        "completion_response = hf_llm.complete(\"To infinity, and\")\n",
        "print(completion_response)"
      ],
      "metadata": {
        "colab": {
          "base_uri": "https://localhost:8080/"
        },
        "id": "S27bM5IpPwU5",
        "outputId": "b162f695-df21-4ec5-8658-598658e742e0"
      },
      "execution_count": 68,
      "outputs": [
        {
          "output_type": "stream",
          "name": "stderr",
          "text": [
            "WARNING:llama_index.llms.text_generation_inference.base:TGI client has no function call support: expected string or bytes-like object\n"
          ]
        },
        {
          "output_type": "stream",
          "name": "stdout",
          "text": [
            "...beyond!\n"
          ]
        }
      ]
    },
    {
      "cell_type": "code",
      "source": [
        "from llama_index.core import PromptTemplate\n",
        "\n",
        "DEFAULT_RAG_PROMPT = PromptTemplate(\n",
        "    template=\"\"\"Use the provided context to answer the question. If you don't know the answer, say you don't know.\n",
        "\n",
        "    Context:\n",
        "    {context}\n",
        "\n",
        "    Question:\n",
        "    {question}\n",
        "    \"\"\"\n",
        ")"
      ],
      "metadata": {
        "id": "f4I5jTYifgC0"
      },
      "execution_count": 63,
      "outputs": []
    },
    {
      "cell_type": "code",
      "source": [
        "from llama_index.core.workflow import Event\n",
        "from llama_index.core.schema import NodeWithScore\n",
        "\n",
        "class PrepEvent(Event):\n",
        "    \"\"\"Prep event (prepares for retrieval).\"\"\"\n",
        "    pass\n",
        "\n",
        "class RetrieveEvent(Event):\n",
        "    \"\"\"Retrieve event (gets retrieved nodes).\"\"\"\n",
        "\n",
        "    retrieved_nodes: list[NodeWithScore]\n",
        "\n",
        "class AugmentGenerateEvent(Event):\n",
        "    \"\"\"Query event. Queries given relevant text and search text.\"\"\"\n",
        "    relevant_text: str\n",
        "    search_text: str"
      ],
      "metadata": {
        "id": "_-2DD81xgg77"
      },
      "execution_count": 72,
      "outputs": []
    },
    {
      "cell_type": "code",
      "source": [
        "from llama_index.core.workflow import (\n",
        "    Workflow,\n",
        "    step,\n",
        "    Context,\n",
        "    StartEvent,\n",
        "    StopEvent,\n",
        ")\n",
        "from llama_index.core import (\n",
        "    VectorStoreIndex,\n",
        "    Document,\n",
        "    SummaryIndex,\n",
        ")\n",
        "from llama_index.core.query_pipeline import QueryPipeline\n",
        "from llama_index.llms.openai import OpenAI\n",
        "from llama_index.core import StorageContext\n",
        "from llama_index.core import VectorStoreIndex, SimpleDirectoryReader\n",
        "from llama_index.vector_stores.pinecone import PineconeVectorStore\n",
        "from IPython.display import Markdown, display\n",
        "from llama_index.core.base.base_retriever import BaseRetriever\n",
        "\n",
        "class OpenSourceRAG(Workflow):\n",
        "    @step\n",
        "    async def ingest(self, ctx: Context, ev: StartEvent) -> StopEvent | None:\n",
        "        \"\"\"Ingest step (for ingesting docs and initializing index).\"\"\"\n",
        "        documents: list[Document] | None = ev.get(\"documents\")\n",
        "\n",
        "        if documents is None:\n",
        "            return None\n",
        "\n",
        "        vector_store = PineconeVectorStore(pinecone_index=pinecone_index)\n",
        "        storage_context = StorageContext.from_defaults(vector_store=vector_store)\n",
        "        index = VectorStoreIndex.from_documents(\n",
        "            documents, storage_context=storage_context\n",
        "        )\n",
        "\n",
        "        return StopEvent(result=index)\n",
        "\n",
        "    @step\n",
        "    async def prepare_for_retrieval(\n",
        "        self, ctx: Context, ev: StartEvent\n",
        "    ) -> PrepEvent | None:\n",
        "        \"\"\"Prepare for retrieval.\"\"\"\n",
        "\n",
        "        model_url = \"https://cx7s40y9qdd7zxhr.us-east-1.aws.endpoints.huggingface.cloud\"\n",
        "\n",
        "        query_str: str | None = ev.get(\"query_str\")\n",
        "        retriever_kwargs: dict | None = ev.get(\"retriever_kwargs\", {})\n",
        "\n",
        "        if query_str is None:\n",
        "            return None\n",
        "\n",
        "        index = ev.get(\"index\")\n",
        "\n",
        "        llm = TextGenerationInference(\n",
        "            model_url=model_url,\n",
        "            token=os.environ[\"HF_TOKEN\"],\n",
        "            model_name=\"hugging-quants/Meta-Llama-3.1-8B-Instruct-AWQ-INT4 \"\n",
        "        )\n",
        "        await ctx.set(\"rag_pipeline\", QueryPipeline(\n",
        "            chain=[DEFAULT_RAG_PROMPT, llm]\n",
        "        ))\n",
        "\n",
        "        await ctx.set(\"llm\", llm)\n",
        "        await ctx.set(\"index\", index)\n",
        "\n",
        "        await ctx.set(\"query_str\", query_str)\n",
        "        await ctx.set(\"retriever_kwargs\", retriever_kwargs)\n",
        "\n",
        "        return PrepEvent()\n",
        "\n",
        "    @step\n",
        "    async def retrieve(\n",
        "        self, ctx: Context, ev: PrepEvent\n",
        "    ) -> RetrieveEvent | None:\n",
        "        \"\"\"Retrieve the relevant nodes for the query.\"\"\"\n",
        "        query_str = await ctx.get(\"query_str\")\n",
        "        retriever_kwargs = await ctx.get(\"retriever_kwargs\")\n",
        "\n",
        "        if query_str is None:\n",
        "            return None\n",
        "\n",
        "        index = await ctx.get(\"index\", default=None)\n",
        "        if not (index):\n",
        "            raise ValueError(\n",
        "                \"Index and tavily tool must be constructed. Run with 'documents' and 'tavily_ai_apikey' params first.\"\n",
        "            )\n",
        "\n",
        "        retriever: BaseRetriever = index.as_retriever(\n",
        "            **retriever_kwargs\n",
        "        )\n",
        "        result = retriever.retrieve(query_str)\n",
        "        await ctx.set(\"query_str\", query_str)\n",
        "        return RetrieveEvent(retrieved_nodes=result)\n",
        "\n",
        "    @step\n",
        "    async def augment_and_generate(self, ctx: Context, ev: RetrieveEvent) -> StopEvent:\n",
        "        \"\"\"Get result with relevant text.\"\"\"\n",
        "        relevant_nodes = ev.retrieved_nodes\n",
        "        relevant_text = \"\\n\".join([node.get_content() for node in relevant_nodes])\n",
        "        query_str = await ctx.get(\"query_str\")\n",
        "\n",
        "        relevancy_pipeline = await ctx.get(\"rag_pipeline\")\n",
        "\n",
        "        relevancy = relevancy_pipeline.run(\n",
        "                context=relevant_text, question=query_str\n",
        "        )\n",
        "\n",
        "        return StopEvent(result=relevancy.message.content)"
      ],
      "metadata": {
        "id": "vf4zPnR2LdL8"
      },
      "execution_count": 73,
      "outputs": []
    },
    {
      "cell_type": "code",
      "source": [
        "from llama_index.utils.workflow import draw_all_possible_flows\n",
        "\n",
        "draw_all_possible_flows(\n",
        "    OpenSourceRAG, filename=\"os_rag_workflow.html\"\n",
        ")"
      ],
      "metadata": {
        "colab": {
          "base_uri": "https://localhost:8080/"
        },
        "id": "r7mBeY0vhOww",
        "outputId": "2ff253e6-fbbf-4417-a3e7-993e4a7af3d1"
      },
      "execution_count": 65,
      "outputs": [
        {
          "output_type": "stream",
          "name": "stdout",
          "text": [
            "os_rag_workflow.html\n"
          ]
        }
      ]
    },
    {
      "cell_type": "code",
      "source": [
        "from llama_index.core import SimpleDirectoryReader\n",
        "\n",
        "rag_workflow = OpenSourceRAG()\n",
        "index = await rag_workflow.run(documents=all_documents)"
      ],
      "metadata": {
        "colab": {
          "base_uri": "https://localhost:8080/",
          "height": 49,
          "referenced_widgets": [
            "5df7a1539bc4421bb77de3e7f0f09fa1",
            "bd097058c67143cc9fb50b6e249c41d8",
            "7998c07343264872a7a56f6b5ef506a5",
            "6c25f27e1d8941e5bd2c7e9dc1362530",
            "c6690f4f904e4b469caca29d16697ffc",
            "1c6c9020298848b99c0b20fb218ed866",
            "88f0ec80fcc14da8a68d9545b205a3fa",
            "d1b08b690275454db5837bd0d64e10a2",
            "e2ff360460604f97b4ba22da1a34009d",
            "4161c8b64e8049099e3fab29a04215b3",
            "aba590ea0bae447484833644557768e6"
          ]
        },
        "id": "NnvyideuhQ3f",
        "outputId": "578700a5-b97c-4ac6-daa0-c78b855796a9"
      },
      "execution_count": 95,
      "outputs": [
        {
          "output_type": "display_data",
          "data": {
            "text/plain": [
              "Upserted vectors:   0%|          | 0/87 [00:00<?, ?it/s]"
            ],
            "application/vnd.jupyter.widget-view+json": {
              "version_major": 2,
              "version_minor": 0,
              "model_id": "5df7a1539bc4421bb77de3e7f0f09fa1"
            }
          },
          "metadata": {}
        }
      ]
    },
    {
      "cell_type": "code",
      "source": [
        "from IPython.display import Markdown, display\n",
        "\n",
        "response = await rag_workflow.run(\n",
        "    query_str=\"Why did Elon Musk sue OpenAI?\",\n",
        "    index=index,\n",
        ")\n",
        "display(Markdown(str(response)))"
      ],
      "metadata": {
        "colab": {
          "base_uri": "https://localhost:8080/",
          "height": 82
        },
        "id": "PjqbTHsMjk1A",
        "outputId": "77b5d9b3-d94f-4fa2-cc48-fecfa7781647"
      },
      "execution_count": 111,
      "outputs": [
        {
          "output_type": "stream",
          "name": "stderr",
          "text": [
            "WARNING:llama_index.llms.text_generation_inference.base:TGI client has no function call support: expected string or bytes-like object\n"
          ]
        },
        {
          "output_type": "display_data",
          "data": {
            "text/plain": [
              "<IPython.core.display.Markdown object>"
            ],
            "text/markdown": "I don't know the specific reason why Elon Musk sued OpenAI. The provided context mentions that Musk contributed more than $15 million to the project and paid much of its overhead expenses, but it does not specify the reason for the lawsuit."
          },
          "metadata": {}
        }
      ]
    },
    {
      "cell_type": "code",
      "source": [
        "from IPython.display import Markdown, display\n",
        "\n",
        "response = await rag_workflow.run(\n",
        "    query_str=\"In what state was this complaint levied?\",\n",
        "    index=index,\n",
        ")\n",
        "display(Markdown(str(response)))"
      ],
      "metadata": {
        "colab": {
          "base_uri": "https://localhost:8080/",
          "height": 64
        },
        "id": "YbnSXobGkmF4",
        "outputId": "902a58a0-39d1-4f9f-ccb0-2c633437502e"
      },
      "execution_count": 97,
      "outputs": [
        {
          "output_type": "stream",
          "name": "stderr",
          "text": [
            "WARNING:llama_index.llms.text_generation_inference.base:TGI client has no function call support: expected string or bytes-like object\n"
          ]
        },
        {
          "output_type": "display_data",
          "data": {
            "text/plain": [
              "<IPython.core.display.Markdown object>"
            ],
            "text/markdown": "The complaint was levied in the State of California."
          },
          "metadata": {}
        }
      ]
    },
    {
      "cell_type": "markdown",
      "source": [
        "---"
      ],
      "metadata": {
        "id": "nGWrP21olzpB"
      }
    },
    {
      "cell_type": "code",
      "source": [],
      "metadata": {
        "id": "ZEyyUEWQl0Zd"
      },
      "execution_count": null,
      "outputs": []
    }
  ]
}