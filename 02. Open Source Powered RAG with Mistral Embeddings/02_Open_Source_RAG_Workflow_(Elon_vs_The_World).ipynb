{
  "nbformat": 4,
  "nbformat_minor": 0,
  "metadata": {
    "colab": {
      "provenance": []
    },
    "kernelspec": {
      "name": "python3",
      "display_name": "Python 3"
    },
    "language_info": {
      "name": "python"
    },
    "widgets": {
      "application/vnd.jupyter.widget-state+json": {
        "ab137b1976114c3e839d70188ff4407b": {
          "model_module": "@jupyter-widgets/controls",
          "model_name": "HBoxModel",
          "model_module_version": "1.5.0",
          "state": {
            "_dom_classes": [],
            "_model_module": "@jupyter-widgets/controls",
            "_model_module_version": "1.5.0",
            "_model_name": "HBoxModel",
            "_view_count": null,
            "_view_module": "@jupyter-widgets/controls",
            "_view_module_version": "1.5.0",
            "_view_name": "HBoxView",
            "box_style": "",
            "children": [
              "IPY_MODEL_ab374b5c92a8456c86b0a6555a0953b1",
              "IPY_MODEL_98805d4be6334a339502ae22adc89a59",
              "IPY_MODEL_9c8ffd6c8d7f4e048bc96e3a055f8a1e"
            ],
            "layout": "IPY_MODEL_a71c566807764be7b5e7ed0092d45937"
          }
        },
        "ab374b5c92a8456c86b0a6555a0953b1": {
          "model_module": "@jupyter-widgets/controls",
          "model_name": "HTMLModel",
          "model_module_version": "1.5.0",
          "state": {
            "_dom_classes": [],
            "_model_module": "@jupyter-widgets/controls",
            "_model_module_version": "1.5.0",
            "_model_name": "HTMLModel",
            "_view_count": null,
            "_view_module": "@jupyter-widgets/controls",
            "_view_module_version": "1.5.0",
            "_view_name": "HTMLView",
            "description": "",
            "description_tooltip": null,
            "layout": "IPY_MODEL_6efdf37cf861450caf715367523ad38e",
            "placeholder": "​",
            "style": "IPY_MODEL_0d2b6c55478e471f97870590787eecf8",
            "value": "Upserted vectors: 100%"
          }
        },
        "98805d4be6334a339502ae22adc89a59": {
          "model_module": "@jupyter-widgets/controls",
          "model_name": "FloatProgressModel",
          "model_module_version": "1.5.0",
          "state": {
            "_dom_classes": [],
            "_model_module": "@jupyter-widgets/controls",
            "_model_module_version": "1.5.0",
            "_model_name": "FloatProgressModel",
            "_view_count": null,
            "_view_module": "@jupyter-widgets/controls",
            "_view_module_version": "1.5.0",
            "_view_name": "ProgressView",
            "bar_style": "success",
            "description": "",
            "description_tooltip": null,
            "layout": "IPY_MODEL_3bc08d9ad9704a0081d98536e44667bf",
            "max": 87,
            "min": 0,
            "orientation": "horizontal",
            "style": "IPY_MODEL_4549bfc39ddb4003bde6f30399b1b5cf",
            "value": 87
          }
        },
        "9c8ffd6c8d7f4e048bc96e3a055f8a1e": {
          "model_module": "@jupyter-widgets/controls",
          "model_name": "HTMLModel",
          "model_module_version": "1.5.0",
          "state": {
            "_dom_classes": [],
            "_model_module": "@jupyter-widgets/controls",
            "_model_module_version": "1.5.0",
            "_model_name": "HTMLModel",
            "_view_count": null,
            "_view_module": "@jupyter-widgets/controls",
            "_view_module_version": "1.5.0",
            "_view_name": "HTMLView",
            "description": "",
            "description_tooltip": null,
            "layout": "IPY_MODEL_ae8c0bc9dd404dcd9acbefc5ebab7ea0",
            "placeholder": "​",
            "style": "IPY_MODEL_7707751185e14a008c5e570be009ec03",
            "value": " 87/87 [00:02&lt;00:00, 30.26it/s]"
          }
        },
        "a71c566807764be7b5e7ed0092d45937": {
          "model_module": "@jupyter-widgets/base",
          "model_name": "LayoutModel",
          "model_module_version": "1.2.0",
          "state": {
            "_model_module": "@jupyter-widgets/base",
            "_model_module_version": "1.2.0",
            "_model_name": "LayoutModel",
            "_view_count": null,
            "_view_module": "@jupyter-widgets/base",
            "_view_module_version": "1.2.0",
            "_view_name": "LayoutView",
            "align_content": null,
            "align_items": null,
            "align_self": null,
            "border": null,
            "bottom": null,
            "display": null,
            "flex": null,
            "flex_flow": null,
            "grid_area": null,
            "grid_auto_columns": null,
            "grid_auto_flow": null,
            "grid_auto_rows": null,
            "grid_column": null,
            "grid_gap": null,
            "grid_row": null,
            "grid_template_areas": null,
            "grid_template_columns": null,
            "grid_template_rows": null,
            "height": null,
            "justify_content": null,
            "justify_items": null,
            "left": null,
            "margin": null,
            "max_height": null,
            "max_width": null,
            "min_height": null,
            "min_width": null,
            "object_fit": null,
            "object_position": null,
            "order": null,
            "overflow": null,
            "overflow_x": null,
            "overflow_y": null,
            "padding": null,
            "right": null,
            "top": null,
            "visibility": null,
            "width": null
          }
        },
        "6efdf37cf861450caf715367523ad38e": {
          "model_module": "@jupyter-widgets/base",
          "model_name": "LayoutModel",
          "model_module_version": "1.2.0",
          "state": {
            "_model_module": "@jupyter-widgets/base",
            "_model_module_version": "1.2.0",
            "_model_name": "LayoutModel",
            "_view_count": null,
            "_view_module": "@jupyter-widgets/base",
            "_view_module_version": "1.2.0",
            "_view_name": "LayoutView",
            "align_content": null,
            "align_items": null,
            "align_self": null,
            "border": null,
            "bottom": null,
            "display": null,
            "flex": null,
            "flex_flow": null,
            "grid_area": null,
            "grid_auto_columns": null,
            "grid_auto_flow": null,
            "grid_auto_rows": null,
            "grid_column": null,
            "grid_gap": null,
            "grid_row": null,
            "grid_template_areas": null,
            "grid_template_columns": null,
            "grid_template_rows": null,
            "height": null,
            "justify_content": null,
            "justify_items": null,
            "left": null,
            "margin": null,
            "max_height": null,
            "max_width": null,
            "min_height": null,
            "min_width": null,
            "object_fit": null,
            "object_position": null,
            "order": null,
            "overflow": null,
            "overflow_x": null,
            "overflow_y": null,
            "padding": null,
            "right": null,
            "top": null,
            "visibility": null,
            "width": null
          }
        },
        "0d2b6c55478e471f97870590787eecf8": {
          "model_module": "@jupyter-widgets/controls",
          "model_name": "DescriptionStyleModel",
          "model_module_version": "1.5.0",
          "state": {
            "_model_module": "@jupyter-widgets/controls",
            "_model_module_version": "1.5.0",
            "_model_name": "DescriptionStyleModel",
            "_view_count": null,
            "_view_module": "@jupyter-widgets/base",
            "_view_module_version": "1.2.0",
            "_view_name": "StyleView",
            "description_width": ""
          }
        },
        "3bc08d9ad9704a0081d98536e44667bf": {
          "model_module": "@jupyter-widgets/base",
          "model_name": "LayoutModel",
          "model_module_version": "1.2.0",
          "state": {
            "_model_module": "@jupyter-widgets/base",
            "_model_module_version": "1.2.0",
            "_model_name": "LayoutModel",
            "_view_count": null,
            "_view_module": "@jupyter-widgets/base",
            "_view_module_version": "1.2.0",
            "_view_name": "LayoutView",
            "align_content": null,
            "align_items": null,
            "align_self": null,
            "border": null,
            "bottom": null,
            "display": null,
            "flex": null,
            "flex_flow": null,
            "grid_area": null,
            "grid_auto_columns": null,
            "grid_auto_flow": null,
            "grid_auto_rows": null,
            "grid_column": null,
            "grid_gap": null,
            "grid_row": null,
            "grid_template_areas": null,
            "grid_template_columns": null,
            "grid_template_rows": null,
            "height": null,
            "justify_content": null,
            "justify_items": null,
            "left": null,
            "margin": null,
            "max_height": null,
            "max_width": null,
            "min_height": null,
            "min_width": null,
            "object_fit": null,
            "object_position": null,
            "order": null,
            "overflow": null,
            "overflow_x": null,
            "overflow_y": null,
            "padding": null,
            "right": null,
            "top": null,
            "visibility": null,
            "width": null
          }
        },
        "4549bfc39ddb4003bde6f30399b1b5cf": {
          "model_module": "@jupyter-widgets/controls",
          "model_name": "ProgressStyleModel",
          "model_module_version": "1.5.0",
          "state": {
            "_model_module": "@jupyter-widgets/controls",
            "_model_module_version": "1.5.0",
            "_model_name": "ProgressStyleModel",
            "_view_count": null,
            "_view_module": "@jupyter-widgets/base",
            "_view_module_version": "1.2.0",
            "_view_name": "StyleView",
            "bar_color": null,
            "description_width": ""
          }
        },
        "ae8c0bc9dd404dcd9acbefc5ebab7ea0": {
          "model_module": "@jupyter-widgets/base",
          "model_name": "LayoutModel",
          "model_module_version": "1.2.0",
          "state": {
            "_model_module": "@jupyter-widgets/base",
            "_model_module_version": "1.2.0",
            "_model_name": "LayoutModel",
            "_view_count": null,
            "_view_module": "@jupyter-widgets/base",
            "_view_module_version": "1.2.0",
            "_view_name": "LayoutView",
            "align_content": null,
            "align_items": null,
            "align_self": null,
            "border": null,
            "bottom": null,
            "display": null,
            "flex": null,
            "flex_flow": null,
            "grid_area": null,
            "grid_auto_columns": null,
            "grid_auto_flow": null,
            "grid_auto_rows": null,
            "grid_column": null,
            "grid_gap": null,
            "grid_row": null,
            "grid_template_areas": null,
            "grid_template_columns": null,
            "grid_template_rows": null,
            "height": null,
            "justify_content": null,
            "justify_items": null,
            "left": null,
            "margin": null,
            "max_height": null,
            "max_width": null,
            "min_height": null,
            "min_width": null,
            "object_fit": null,
            "object_position": null,
            "order": null,
            "overflow": null,
            "overflow_x": null,
            "overflow_y": null,
            "padding": null,
            "right": null,
            "top": null,
            "visibility": null,
            "width": null
          }
        },
        "7707751185e14a008c5e570be009ec03": {
          "model_module": "@jupyter-widgets/controls",
          "model_name": "DescriptionStyleModel",
          "model_module_version": "1.5.0",
          "state": {
            "_model_module": "@jupyter-widgets/controls",
            "_model_module_version": "1.5.0",
            "_model_name": "DescriptionStyleModel",
            "_view_count": null,
            "_view_module": "@jupyter-widgets/base",
            "_view_module_version": "1.2.0",
            "_view_name": "StyleView",
            "description_width": ""
          }
        }
      }
    }
  },
  "cells": [
    {
      "cell_type": "markdown",
      "source": [
        "## Preparation\n",
        "\n",
        "As always, we have some work to do before we can jump straight into the workflows.\n",
        "\n",
        "Let's set-up some boilerplate, add some dependencies, and get ready to rock!"
      ],
      "metadata": {
        "id": "BMGjxLBV25E4"
      }
    },
    {
      "cell_type": "markdown",
      "source": [
        "### Async Boilerplate:\n",
        "\n",
        "Since \"workflows make async a first-class citizen\", and we're running these examples in a Jupyter Notebook (which is in an active async loop!) we'll need to use the `nest_asyncio` library to ensure we're able to take advantage of the async capabilities of the workflows we're making!"
      ],
      "metadata": {
        "id": "cJnMhhnc0zKt"
      }
    },
    {
      "cell_type": "code",
      "execution_count": null,
      "metadata": {
        "id": "L9sDSuocmarA"
      },
      "outputs": [],
      "source": [
        "import nest_asyncio\n",
        "\n",
        "nest_asyncio.apply()"
      ]
    },
    {
      "cell_type": "markdown",
      "source": [
        "### Installing Dependencies:\n",
        "\n",
        "Next, we're going to install our dependencies!\n",
        "\n",
        "We'll want to grab our `llama-index-utils-workflow` package which will let us draw all possible paths through the resultant workflow.\n",
        "\n",
        "We'll also grab the rest of our dependencies here as well!"
      ],
      "metadata": {
        "id": "AdoaMp0B1aCC"
      }
    },
    {
      "cell_type": "code",
      "source": [
        "%pip install -qU llama-index llama-index-utils-workflow"
      ],
      "metadata": {
        "id": "uhBEvUDlqkaP"
      },
      "execution_count": null,
      "outputs": []
    },
    {
      "cell_type": "code",
      "source": [
        "%pip install -qU pinecone llama-index-vector-stores-pinecone"
      ],
      "metadata": {
        "id": "zSpfS6J6wR59"
      },
      "execution_count": null,
      "outputs": []
    },
    {
      "cell_type": "code",
      "source": [
        "%pip install -qU llama-index-embeddings-mistralai llama-index-llms-text-generation-inference"
      ],
      "metadata": {
        "id": "-59x6rrl4AM9"
      },
      "execution_count": null,
      "outputs": []
    },
    {
      "cell_type": "code",
      "source": [
        "%pip install -qU llama-index-core llama-parse llama-index-readers-file python-dotenv"
      ],
      "metadata": {
        "id": "1iaSn7LbKEiu"
      },
      "execution_count": null,
      "outputs": []
    },
    {
      "cell_type": "code",
      "source": [
        "%pip install -qU llama-index-readers-file"
      ],
      "metadata": {
        "id": "GXtQc6r5lrJk"
      },
      "execution_count": null,
      "outputs": []
    },
    {
      "cell_type": "markdown",
      "source": [
        "Next, we'll grab all of our API keys, which are a lot!"
      ],
      "metadata": {
        "id": "89FSjZpBKRTK"
      }
    },
    {
      "cell_type": "code",
      "source": [
        "import os\n",
        "import getpass\n",
        "\n",
        "os.environ[\"PINECONE_API_KEY\"] = getpass.getpass(\"Pinecone API Key:\")"
      ],
      "metadata": {
        "colab": {
          "base_uri": "https://localhost:8080/"
        },
        "id": "XtN9SIIKwdkg",
        "outputId": "5b8846a7-be35-4de5-8651-760a257a70bf"
      },
      "execution_count": null,
      "outputs": [
        {
          "name": "stdout",
          "output_type": "stream",
          "text": [
            "Pinecone API Key:··········\n"
          ]
        }
      ]
    },
    {
      "cell_type": "code",
      "source": [
        "os.environ[\"LLAMA_CLOUD_API_KEY\"] = getpass.getpass(\"Llama Cloud API Key\")"
      ],
      "metadata": {
        "colab": {
          "base_uri": "https://localhost:8080/"
        },
        "id": "q8EvbTWhKMDk",
        "outputId": "455c48ed-f0e1-43ff-9e9c-cbed88894aaa"
      },
      "execution_count": null,
      "outputs": [
        {
          "name": "stdout",
          "output_type": "stream",
          "text": [
            "Llama Cloud API Key··········\n"
          ]
        }
      ]
    },
    {
      "cell_type": "code",
      "source": [
        "os.environ[\"HF_TOKEN\"] = getpass.getpass(\"Huggingface Token:\")"
      ],
      "metadata": {
        "colab": {
          "base_uri": "https://localhost:8080/"
        },
        "id": "CxJ4gLV9MazX",
        "outputId": "1e13bae8-ffba-4247-80a1-2fc813afe5af"
      },
      "execution_count": null,
      "outputs": [
        {
          "name": "stdout",
          "output_type": "stream",
          "text": [
            "Huggingface Token:··········\n"
          ]
        }
      ]
    },
    {
      "cell_type": "code",
      "source": [
        "os.environ[\"MISTRAL_API_KEY\"] = getpass.getpass(\"Mistral API Key:\")"
      ],
      "metadata": {
        "colab": {
          "base_uri": "https://localhost:8080/"
        },
        "id": "jlNr-VT6SmMx",
        "outputId": "1d60beef-961d-41ef-eadd-411ce7715588"
      },
      "execution_count": null,
      "outputs": [
        {
          "name": "stdout",
          "output_type": "stream",
          "text": [
            "Mistral API Key:··········\n"
          ]
        }
      ]
    },
    {
      "cell_type": "code",
      "source": [
        "!git clone https://github.com/AI-Maker-Space/DataRepository.git"
      ],
      "metadata": {
        "colab": {
          "base_uri": "https://localhost:8080/"
        },
        "id": "_HsatPZ2Ig5Q",
        "outputId": "f1e1707b-0751-482c-f08a-76d5833c859c"
      },
      "execution_count": null,
      "outputs": [
        {
          "output_type": "stream",
          "name": "stdout",
          "text": [
            "Cloning into 'DataRepository'...\n",
            "remote: Enumerating objects: 110, done.\u001b[K\n",
            "remote: Counting objects: 100% (102/102), done.\u001b[K\n",
            "remote: Compressing objects: 100% (88/88), done.\u001b[K\n",
            "remote: Total 110 (delta 34), reused 35 (delta 9), pack-reused 8 (from 1)\u001b[K\n",
            "Receiving objects: 100% (110/110), 71.41 MiB | 22.89 MiB/s, done.\n",
            "Resolving deltas: 100% (34/34), done.\n"
          ]
        }
      ]
    },
    {
      "cell_type": "markdown",
      "source": [
        "We'll use [LlamaParse](https://docs.llamaindex.ai/en/stable/llama_cloud/llama_parse/) to ingest the legal complaint that Elon Musk brought against OpenAI - which we can find [here](https://github.com/AI-Maker-Space/DataRepository/blob/main/RAGATHON/musk_v_openai.pdf)."
      ],
      "metadata": {
        "id": "eYcO9qWGQ9BB"
      }
    },
    {
      "cell_type": "code",
      "source": [
        "from llama_parse import LlamaParse\n",
        "from llama_index.core import SimpleDirectoryReader\n",
        "\n",
        "parser = LlamaParse(\n",
        "    result_type=\"markdown\"  # \"markdown\" and \"text\" are available\n",
        ")\n",
        "\n",
        "file_extractor = {\".pdf\": parser}\n",
        "pdf_documents = SimpleDirectoryReader(input_files=['./DataRepository/RAGATHON/musk_v_openai.pdf'], file_extractor=file_extractor).load_data()\n",
        "print(len(pdf_documents))"
      ],
      "metadata": {
        "colab": {
          "base_uri": "https://localhost:8080/"
        },
        "id": "ep93iaa5JlKk",
        "outputId": "b35db153-5246-42fc-c033-4f3fc30b40ba"
      },
      "execution_count": null,
      "outputs": [
        {
          "output_type": "stream",
          "name": "stdout",
          "text": [
            "Started parsing the file under job_id a683348b-4f40-45f0-91fb-82eefeca7dc0\n",
            "86\n"
          ]
        }
      ]
    },
    {
      "cell_type": "code",
      "source": [
        "all_documents = pdf_documents"
      ],
      "metadata": {
        "id": "nxnbSMNLpDj5"
      },
      "execution_count": null,
      "outputs": []
    },
    {
      "cell_type": "markdown",
      "source": [
        "Next, we'll use our [mistral-embed](https://docs.mistral.ai/capabilities/embeddings/) model as our default Embedding model!"
      ],
      "metadata": {
        "id": "dYTJD52RVxj2"
      }
    },
    {
      "cell_type": "code",
      "source": [
        "from llama_index.embeddings.mistralai import MistralAIEmbedding\n",
        "\n",
        "model_name=\"mistral-embed\"\n",
        "\n",
        "embed_model = MistralAIEmbedding(model_name=model_name)"
      ],
      "metadata": {
        "id": "ZASnfwLJNMJb"
      },
      "execution_count": null,
      "outputs": []
    },
    {
      "cell_type": "markdown",
      "source": [
        "Let's test this out - and grab our embedding dimension by checking the length of the returned response."
      ],
      "metadata": {
        "id": "mDSN8ZXfWCdc"
      }
    },
    {
      "cell_type": "code",
      "source": [
        "embeddings = embed_model.get_text_embedding(\"Welcome to the RAGATHON!\")\n",
        "print(len(embeddings))\n",
        "embedding_dimension = len(embeddings)"
      ],
      "metadata": {
        "colab": {
          "base_uri": "https://localhost:8080/"
        },
        "id": "vpfTbOwNOzl2",
        "outputId": "7441a12a-e75f-4014-f91c-3e87e4810813"
      },
      "execution_count": null,
      "outputs": [
        {
          "output_type": "stream",
          "name": "stdout",
          "text": [
            "1024\n"
          ]
        }
      ]
    },
    {
      "cell_type": "markdown",
      "source": [
        "Let's save this model in our settings!"
      ],
      "metadata": {
        "id": "xnJsZrUNWIpY"
      }
    },
    {
      "cell_type": "code",
      "source": [
        "from llama_index.core import Settings\n",
        "\n",
        "Settings.embed_model = embed_model"
      ],
      "metadata": {
        "id": "5aVW8hLqS4Pv"
      },
      "execution_count": null,
      "outputs": []
    },
    {
      "cell_type": "markdown",
      "source": [
        "Now, we can set-up [Pinecone's integration with LlamaIndex](https://www.pinecone.io/pricing/)!\n",
        "\n",
        "We'll need to ensure we have our Pinecone API key!\n",
        "\n",
        "![image](https://i.imgur.com/xiJXVpC.png)\n",
        "\n",
        "> NOTE: Your organization, and project names will be different."
      ],
      "metadata": {
        "id": "ilP0EvEpWK_2"
      }
    },
    {
      "cell_type": "code",
      "source": [
        "from pinecone import Pinecone, ServerlessSpec\n",
        "\n",
        "pc = Pinecone(api_key=os.environ[\"PINECONE_API_KEY\"])"
      ],
      "metadata": {
        "id": "qjrVUt_UwZ9m"
      },
      "execution_count": null,
      "outputs": []
    },
    {
      "cell_type": "markdown",
      "source": [
        "Next, we'll create our Pinecone Index through the Pinecone client!"
      ],
      "metadata": {
        "id": "joS9OEyFW3KY"
      }
    },
    {
      "cell_type": "code",
      "source": [
        "index_name = \"llamaindex-ragathon-demo-index-v1\"\n",
        "\n",
        "pc.create_index(\n",
        "    name=index_name,\n",
        "    dimension=embedding_dimension,\n",
        "    metric=\"cosine\",\n",
        "    spec=ServerlessSpec(\n",
        "        cloud=\"aws\",\n",
        "        region=\"us-east-1\"\n",
        "    )\n",
        ")"
      ],
      "metadata": {
        "id": "z7KOUdp8wrGM"
      },
      "execution_count": null,
      "outputs": []
    },
    {
      "cell_type": "code",
      "source": [
        "pinecone_index = pc.Index(index_name)"
      ],
      "metadata": {
        "id": "ekaV8FFwykyn"
      },
      "execution_count": null,
      "outputs": []
    },
    {
      "cell_type": "markdown",
      "source": [
        "## LLM\n",
        "\n",
        "We can point at our inference endpoint (that we set-up already) by including our URL below!"
      ],
      "metadata": {
        "id": "W9zyl6NPW79w"
      }
    },
    {
      "cell_type": "code",
      "source": [
        "import os\n",
        "from typing import List, Optional\n",
        "\n",
        "from llama_index.llms.text_generation_inference import (\n",
        "    TextGenerationInference,\n",
        ")\n",
        "\n",
        "URL = \"<< YOUR URL HERE>>\"\n",
        "hf_llm = TextGenerationInference(\n",
        "    model_url=URL, token=os.environ[\"HF_TOKEN\"]\n",
        ")\n",
        "\n",
        "completion_response = hf_llm.complete(\"To infinity, and\")\n",
        "print(completion_response)"
      ],
      "metadata": {
        "colab": {
          "base_uri": "https://localhost:8080/"
        },
        "id": "S27bM5IpPwU5",
        "outputId": "8eff5aa1-c90c-4312-8529-6971507dd27d"
      },
      "execution_count": null,
      "outputs": [
        {
          "output_type": "stream",
          "name": "stderr",
          "text": [
            "WARNING:llama_index.llms.text_generation_inference.base:TGI client has no function call support: expected string or bytes-like object\n"
          ]
        },
        {
          "output_type": "stream",
          "name": "stdout",
          "text": [
            "...beyond!\n"
          ]
        }
      ]
    },
    {
      "cell_type": "markdown",
      "source": [
        "## RAG Prompt\n",
        "\n",
        "We'll set up and provide a classic RAG Prompt, of course!"
      ],
      "metadata": {
        "id": "_8B73qq_XKTL"
      }
    },
    {
      "cell_type": "code",
      "source": [
        "from llama_index.core import PromptTemplate\n",
        "\n",
        "DEFAULT_RAG_PROMPT = PromptTemplate(\n",
        "    template=\"\"\"Use the provided context to answer the question. If you don't know the answer, say you don't know.\n",
        "\n",
        "    Context:\n",
        "    {context}\n",
        "\n",
        "    Question:\n",
        "    {question}\n",
        "    \"\"\"\n",
        ")"
      ],
      "metadata": {
        "id": "f4I5jTYifgC0"
      },
      "execution_count": null,
      "outputs": []
    },
    {
      "cell_type": "markdown",
      "source": [
        "## Steps & Events: LlamaIndex Workflow Workshop Introduction.\n",
        "\n",
        "`Steps` and `Events` comprise the core building-blocks of LlamaIndex Workflows.\n",
        "\n",
        "In the simplest terms:\n",
        "\n",
        "`Steps`:\n",
        "- `Steps` are units of work, or tasks, in a Workflow. They are typically Python functions decorated by `@step`, marking them as part of the Workflow.\n",
        "- Each `Step` is associated with `Events` as input, and `Events` as outputs.\n",
        "  - A `Step` must take, as input, one or more `Events`\n",
        "  - A `Step` must emit, as output, an `Event`.\n",
        "-`Steps` can be extended to have multiple workers in Workflows where that would be an advantage.\n",
        "- `Steps` can modify shared global context (can be thought of as state) as required.\n",
        "\n",
        "`Events`:\n",
        "- `Events` are data structures that pass information between `Steps`.\n",
        "- `Events` are based on Pydantic Models granting all the typical benefits of type validation, etc.\n",
        "- There are two special `Events` worth listing immediately:\n",
        "  - `StartEvent` - the entry point into the Workflow.\n",
        "  - `StopEvent` - this event stops the execution of the current Workflow.\n",
        "\n",
        "That's a lot of information - so let's see how we could set these events up ourselves.\n",
        "\n",
        "We'll need a sample application to do so - so let's cover the core ideas behind Corrective RAG!"
      ],
      "metadata": {
        "id": "ZhLrFR07XSBA"
      }
    },
    {
      "cell_type": "code",
      "source": [
        "from llama_index.core.workflow import Event\n",
        "from llama_index.core.schema import NodeWithScore\n",
        "\n",
        "class PrepEvent(Event):\n",
        "    \"\"\"Prep event (prepares for retrieval).\"\"\"\n",
        "    pass\n",
        "\n",
        "class RetrieveEvent(Event):\n",
        "    \"\"\"Retrieve event (gets retrieved nodes).\"\"\"\n",
        "\n",
        "    retrieved_nodes: list[NodeWithScore]\n",
        "\n",
        "class AugmentGenerateEvent(Event):\n",
        "    \"\"\"Query event. Queries given relevant text and search text.\"\"\"\n",
        "    relevant_text: str\n",
        "    search_text: str"
      ],
      "metadata": {
        "id": "_-2DD81xgg77"
      },
      "execution_count": null,
      "outputs": []
    },
    {
      "cell_type": "markdown",
      "source": [
        "## Setting up Steps\n",
        "\n",
        "Next, we'll define our `Steps`!\n",
        "\n",
        "Remember: A `Step` must be triggered by one or more `Events`, and it must emit an `Event`.\n",
        "\n",
        "To get started with our Workflow, we'll need to define a Workflow class.\n",
        "\n",
        "Let's do that!"
      ],
      "metadata": {
        "id": "5NB1CYAUXjCb"
      }
    },
    {
      "cell_type": "markdown",
      "source": [
        "#### An Aside on Context:\n",
        "\n",
        "`Context`, in workflows, is analagous to `State` in frameworks like LangGraph.\n",
        "\n",
        "It's a way to provide information to multiple `Steps`, without needing to constantly carry forward information in each `Event`."
      ],
      "metadata": {
        "id": "TjDS326mX3yO"
      }
    },
    {
      "cell_type": "code",
      "source": [
        "from llama_index.core.workflow import (\n",
        "    Workflow,\n",
        "    step,\n",
        "    Context,\n",
        "    StartEvent,\n",
        "    StopEvent,\n",
        ")\n",
        "from llama_index.core import (\n",
        "    VectorStoreIndex,\n",
        "    Document,\n",
        "    SummaryIndex,\n",
        ")\n",
        "from llama_index.core.query_pipeline import QueryPipeline\n",
        "from llama_index.llms.openai import OpenAI\n",
        "from llama_index.core import StorageContext\n",
        "from llama_index.core import VectorStoreIndex, SimpleDirectoryReader\n",
        "from llama_index.vector_stores.pinecone import PineconeVectorStore\n",
        "from IPython.display import Markdown, display\n",
        "from llama_index.core.base.base_retriever import BaseRetriever\n",
        "\n",
        "# First things first, we need to create a new class that subclasses Workflow.\n",
        "# Each step, now, is a method (decorated by the @step decorator) which will take an Event and Context as input.\n",
        "class OpenSourceRAG(Workflow):\n",
        "    @step\n",
        "    async def ingest(self, ctx: Context, ev: StartEvent) -> StopEvent | None:\n",
        "        \"\"\"Ingest step (for ingesting docs and initializing index).\"\"\"\n",
        "        documents: list[Document] | None = ev.get(\"documents\")\n",
        "\n",
        "        if documents is None:\n",
        "            return None\n",
        "\n",
        "        vector_store = PineconeVectorStore(pinecone_index=pinecone_index)\n",
        "        storage_context = StorageContext.from_defaults(vector_store=vector_store)\n",
        "        index = VectorStoreIndex.from_documents(\n",
        "            documents, storage_context=storage_context\n",
        "        )\n",
        "\n",
        "        return StopEvent(result=index)\n",
        "\n",
        "    @step\n",
        "    async def prepare_for_retrieval(\n",
        "        self, ctx: Context, ev: StartEvent\n",
        "    ) -> PrepEvent | None:\n",
        "        \"\"\"Prepare for retrieval.\"\"\"\n",
        "\n",
        "        model_url = \"https://cx7s40y9qdd7zxhr.us-east-1.aws.endpoints.huggingface.cloud\"\n",
        "\n",
        "        query_str: str | None = ev.get(\"query_str\")\n",
        "        retriever_kwargs: dict | None = ev.get(\"retriever_kwargs\", {})\n",
        "\n",
        "        if query_str is None:\n",
        "            return None\n",
        "\n",
        "        index = ev.get(\"index\")\n",
        "\n",
        "        llm = TextGenerationInference(\n",
        "            model_url=model_url,\n",
        "            token=os.environ[\"HF_TOKEN\"],\n",
        "            model_name=\"hugging-quants/Meta-Llama-3.1-8B-Instruct-AWQ-INT4 \"\n",
        "        )\n",
        "        await ctx.set(\"rag_pipeline\", QueryPipeline(\n",
        "            chain=[DEFAULT_RAG_PROMPT, llm]\n",
        "        ))\n",
        "\n",
        "        await ctx.set(\"llm\", llm)\n",
        "        await ctx.set(\"index\", index)\n",
        "\n",
        "        await ctx.set(\"query_str\", query_str)\n",
        "        await ctx.set(\"retriever_kwargs\", retriever_kwargs)\n",
        "\n",
        "        return PrepEvent()\n",
        "\n",
        "    @step\n",
        "    async def retrieve(\n",
        "        self, ctx: Context, ev: PrepEvent\n",
        "    ) -> RetrieveEvent | None:\n",
        "        \"\"\"Retrieve the relevant nodes for the query.\"\"\"\n",
        "        query_str = await ctx.get(\"query_str\")\n",
        "        retriever_kwargs = await ctx.get(\"retriever_kwargs\")\n",
        "\n",
        "        if query_str is None:\n",
        "            return None\n",
        "\n",
        "        index = await ctx.get(\"index\", default=None)\n",
        "        if not (index):\n",
        "            raise ValueError(\n",
        "                \"Index and tavily tool must be constructed. Run with 'documents' and 'tavily_ai_apikey' params first.\"\n",
        "            )\n",
        "\n",
        "        retriever: BaseRetriever = index.as_retriever(\n",
        "            **retriever_kwargs\n",
        "        )\n",
        "        result = retriever.retrieve(query_str)\n",
        "        await ctx.set(\"query_str\", query_str)\n",
        "        return RetrieveEvent(retrieved_nodes=result)\n",
        "\n",
        "    @step\n",
        "    async def augment_and_generate(self, ctx: Context, ev: RetrieveEvent) -> StopEvent:\n",
        "        \"\"\"Get result with relevant text.\"\"\"\n",
        "        relevant_nodes = ev.retrieved_nodes\n",
        "        relevant_text = \"\\n\".join([node.get_content() for node in relevant_nodes])\n",
        "        query_str = await ctx.get(\"query_str\")\n",
        "\n",
        "        relevancy_pipeline = await ctx.get(\"rag_pipeline\")\n",
        "\n",
        "        relevancy = relevancy_pipeline.run(\n",
        "                context=relevant_text, question=query_str\n",
        "        )\n",
        "\n",
        "        return StopEvent(result=relevancy.message.content)"
      ],
      "metadata": {
        "id": "vf4zPnR2LdL8"
      },
      "execution_count": null,
      "outputs": []
    },
    {
      "cell_type": "markdown",
      "source": [
        "## \"Graphing\" our Workflow\n",
        "\n",
        "Since we have `Steps` that take `Events` and return `Events` - we can trace through all possible paths and wind up with a graph!"
      ],
      "metadata": {
        "id": "zFnSHlovYTZa"
      }
    },
    {
      "cell_type": "code",
      "source": [
        "from llama_index.utils.workflow import draw_all_possible_flows\n",
        "\n",
        "draw_all_possible_flows(\n",
        "    OpenSourceRAG, filename=\"os_rag_workflow.html\"\n",
        ")"
      ],
      "metadata": {
        "colab": {
          "base_uri": "https://localhost:8080/"
        },
        "id": "r7mBeY0vhOww",
        "outputId": "d82353f1-cf6a-4422-9cc3-37b590eafbac"
      },
      "execution_count": null,
      "outputs": [
        {
          "output_type": "stream",
          "name": "stdout",
          "text": [
            "os_rag_workflow.html\n"
          ]
        }
      ]
    },
    {
      "cell_type": "markdown",
      "source": [
        "## Using our Workflow\n",
        "\n",
        "First, we need to set-up our documents, then initialize our Index!"
      ],
      "metadata": {
        "id": "7PaSuse9YVbs"
      }
    },
    {
      "cell_type": "code",
      "source": [
        "from llama_index.core import SimpleDirectoryReader\n",
        "\n",
        "rag_workflow = OpenSourceRAG()\n",
        "index = await rag_workflow.run(documents=all_documents)"
      ],
      "metadata": {
        "colab": {
          "base_uri": "https://localhost:8080/",
          "height": 49,
          "referenced_widgets": [
            "ab137b1976114c3e839d70188ff4407b",
            "ab374b5c92a8456c86b0a6555a0953b1",
            "98805d4be6334a339502ae22adc89a59",
            "9c8ffd6c8d7f4e048bc96e3a055f8a1e",
            "a71c566807764be7b5e7ed0092d45937",
            "6efdf37cf861450caf715367523ad38e",
            "0d2b6c55478e471f97870590787eecf8",
            "3bc08d9ad9704a0081d98536e44667bf",
            "4549bfc39ddb4003bde6f30399b1b5cf",
            "ae8c0bc9dd404dcd9acbefc5ebab7ea0",
            "7707751185e14a008c5e570be009ec03"
          ]
        },
        "id": "NnvyideuhQ3f",
        "outputId": "3219712a-af69-4cec-a64a-0dfe14131262"
      },
      "execution_count": null,
      "outputs": [
        {
          "output_type": "display_data",
          "data": {
            "text/plain": [
              "Upserted vectors:   0%|          | 0/87 [00:00<?, ?it/s]"
            ],
            "application/vnd.jupyter.widget-view+json": {
              "version_major": 2,
              "version_minor": 0,
              "model_id": "ab137b1976114c3e839d70188ff4407b"
            }
          },
          "metadata": {}
        }
      ]
    },
    {
      "cell_type": "markdown",
      "source": [
        "Now we're ready to query our Workflow!"
      ],
      "metadata": {
        "id": "sV06vzDdYavQ"
      }
    },
    {
      "cell_type": "code",
      "source": [
        "from IPython.display import Markdown, display\n",
        "\n",
        "response = await rag_workflow.run(\n",
        "    query_str=\"Why did Elon Musk sue OpenAI?\",\n",
        "    index=index,\n",
        ")\n",
        "display(Markdown(str(response)))"
      ],
      "metadata": {
        "colab": {
          "base_uri": "https://localhost:8080/",
          "height": 64
        },
        "id": "PjqbTHsMjk1A",
        "outputId": "956c9c3f-6a2d-46dc-e093-2a5d491a8049"
      },
      "execution_count": null,
      "outputs": [
        {
          "output_type": "stream",
          "name": "stderr",
          "text": [
            "WARNING:llama_index.llms.text_generation_inference.base:TGI client has no function call support: expected string or bytes-like object\n"
          ]
        },
        {
          "output_type": "display_data",
          "data": {
            "text/plain": [
              "<IPython.core.display.Markdown object>"
            ],
            "text/markdown": "I don't know."
          },
          "metadata": {}
        }
      ]
    },
    {
      "cell_type": "code",
      "source": [
        "from IPython.display import Markdown, display\n",
        "\n",
        "response = await rag_workflow.run(\n",
        "    query_str=\"In what state was this complaint levied?\",\n",
        "    index=index,\n",
        ")\n",
        "display(Markdown(str(response)))"
      ],
      "metadata": {
        "colab": {
          "base_uri": "https://localhost:8080/",
          "height": 82
        },
        "id": "YbnSXobGkmF4",
        "outputId": "ffd860c4-c46b-4bca-fe5f-00e5350f5737"
      },
      "execution_count": null,
      "outputs": [
        {
          "output_type": "stream",
          "name": "stderr",
          "text": [
            "WARNING:llama_index.llms.text_generation_inference.base:TGI client has no function call support: expected string or bytes-like object\n"
          ]
        },
        {
          "output_type": "display_data",
          "data": {
            "text/plain": [
              "<IPython.core.display.Markdown object>"
            ],
            "text/markdown": "I don't have enough information to answer your question. You haven't provided any context about the complaint, so I'm unable to determine the state in which it was levied."
          },
          "metadata": {}
        }
      ]
    },
    {
      "cell_type": "markdown",
      "source": [
        "---"
      ],
      "metadata": {
        "id": "nGWrP21olzpB"
      }
    }
  ]
}